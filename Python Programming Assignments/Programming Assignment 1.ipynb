{
 "cells": [
  {
   "cell_type": "code",
   "execution_count": 1,
   "id": "6b093ea0",
   "metadata": {},
   "outputs": [
    {
     "name": "stdout",
     "output_type": "stream",
     "text": [
      "Hello Python\n"
     ]
    }
   ],
   "source": [
    "# 1. Write a Python program to print \"Hello Python\"?\n",
    "\n",
    "print(\"Hello Python\")"
   ]
  },
  {
   "cell_type": "code",
   "execution_count": 2,
   "id": "5e52fdc8",
   "metadata": {},
   "outputs": [
    {
     "name": "stdout",
     "output_type": "stream",
     "text": [
      "Enter first num:10\n",
      "Enter second num:54\n",
      "The addition of two numbers: 64\n",
      "The division of two numbers: 0.18518518518518517\n"
     ]
    }
   ],
   "source": [
    "# 2. Write a Python program to do arithmetical operations addition and division.?\n",
    "\n",
    "a = int(input(\"Enter first num:\"))\n",
    "b = int(input(\"Enter second num:\"))\n",
    "\n",
    "add = a+b\n",
    "div = a/b\n",
    "\n",
    "print(\"The addition of two numbers:\",add)\n",
    "print(\"The division of two numbers:\",div)"
   ]
  },
  {
   "cell_type": "code",
   "execution_count": 3,
   "id": "944cc534",
   "metadata": {},
   "outputs": [
    {
     "name": "stdout",
     "output_type": "stream",
     "text": [
      "Enter base value (cm):8\n",
      "Enter height value (cm):4\n",
      "The area of the triangle is: 16.0 cm^2\n"
     ]
    }
   ],
   "source": [
    "# 3. Write a Python program to find the area of a triangle?\n",
    "\n",
    "base = float(input(\"Enter base value (cm):\"))\n",
    "height = float(input(\"Enter height value (cm):\"))\n",
    "\n",
    "area = 0.5 * base * height\n",
    "\n",
    "print(\"The area of the triangle is:\",area,\"cm^2\")"
   ]
  },
  {
   "cell_type": "code",
   "execution_count": 4,
   "id": "1276cf78",
   "metadata": {},
   "outputs": [
    {
     "name": "stdout",
     "output_type": "stream",
     "text": [
      "Enter Num1:97\n",
      "Enter Num2:19\n",
      "The value after swapping num1: 19\n",
      "The value after swapping num2: 97\n"
     ]
    }
   ],
   "source": [
    "# 4. Write a Python program to swap two variables?\n",
    "\n",
    "num1 = int(input(\"Enter Num1:\"))\n",
    "num2 = int(input(\"Enter Num2:\"))\n",
    "\n",
    "temp = num1\n",
    "num1 = num2\n",
    "num2 = temp\n",
    "\n",
    "print(\"The value after swapping num1:\",num1)\n",
    "print(\"The value after swapping num2:\",num2)"
   ]
  },
  {
   "cell_type": "code",
   "execution_count": 5,
   "id": "1395c357",
   "metadata": {},
   "outputs": [
    {
     "name": "stdout",
     "output_type": "stream",
     "text": [
      "1\n",
      "0.040530695011344764\n"
     ]
    }
   ],
   "source": [
    "# 5. Write a Python program to generate a random number?\n",
    "\n",
    "import random\n",
    "print(random.randint(0,9))\n",
    "\n",
    "n = random.random()  \n",
    "print(n)  "
   ]
  },
  {
   "cell_type": "code",
   "execution_count": null,
   "id": "b818b022",
   "metadata": {},
   "outputs": [],
   "source": []
  }
 ],
 "metadata": {
  "kernelspec": {
   "display_name": "Python 3 (ipykernel)",
   "language": "python",
   "name": "python3"
  },
  "language_info": {
   "codemirror_mode": {
    "name": "ipython",
    "version": 3
   },
   "file_extension": ".py",
   "mimetype": "text/x-python",
   "name": "python",
   "nbconvert_exporter": "python",
   "pygments_lexer": "ipython3",
   "version": "3.9.12"
  }
 },
 "nbformat": 4,
 "nbformat_minor": 5
}

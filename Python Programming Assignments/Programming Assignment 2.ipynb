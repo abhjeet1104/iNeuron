{
 "cells": [
  {
   "cell_type": "code",
   "execution_count": 1,
   "id": "19455d8f",
   "metadata": {},
   "outputs": [
    {
     "name": "stdout",
     "output_type": "stream",
     "text": [
      "Enter Kilometer:11\n",
      "In miles: 6.835081\n"
     ]
    }
   ],
   "source": [
    "# 1. Write a Python program to convert kilometers to miles?\n",
    "\n",
    "a = float(input(\"Enter Kilometer:\"))\n",
    "\n",
    "km_to_miles = 0.621371 * a\n",
    "\n",
    "print(\"In miles:\",km_to_miles)"
   ]
  },
  {
   "cell_type": "code",
   "execution_count": 2,
   "id": "592d4867",
   "metadata": {},
   "outputs": [
    {
     "name": "stdout",
     "output_type": "stream",
     "text": [
      "Enter Celcius:0\n",
      "In Fahrenheit: 32.0\n"
     ]
    }
   ],
   "source": [
    "# 2. Write a Python program to convert Celsius to Fahrenheit?\n",
    "\n",
    "celcius = float(input(\"Enter Celcius:\"))\n",
    "cel_to_far = (celcius * 9/5) + 32\n",
    "\n",
    "print(\"In Fahrenheit:\",cel_to_far)"
   ]
  },
  {
   "cell_type": "code",
   "execution_count": 3,
   "id": "7dcd75c0",
   "metadata": {},
   "outputs": [
    {
     "name": "stdout",
     "output_type": "stream",
     "text": [
      "Enter Year:2022\n",
      "Enter Month:8\n",
      "    August 2022\n",
      "Mo Tu We Th Fr Sa Su\n",
      " 1  2  3  4  5  6  7\n",
      " 8  9 10 11 12 13 14\n",
      "15 16 17 18 19 20 21\n",
      "22 23 24 25 26 27 28\n",
      "29 30 31\n",
      "\n"
     ]
    }
   ],
   "source": [
    "# 3. Write a Python program to display calendar?\n",
    "\n",
    "import calendar\n",
    "\n",
    "year = int(input(\"Enter Year:\"))\n",
    "month = int(input(\"Enter Month:\"))\n",
    "\n",
    "print(calendar.month(year,month))"
   ]
  },
  {
   "cell_type": "code",
   "execution_count": 4,
   "id": "99c6d430",
   "metadata": {},
   "outputs": [
    {
     "name": "stdout",
     "output_type": "stream",
     "text": [
      "Enter a:8\n",
      "Enter b:9\n",
      "Enter c:5\n",
      "The solutions are (-0.5625-0.5555121510822243j) and (-0.5625+0.5555121510822243j)\n"
     ]
    }
   ],
   "source": [
    "# 4. Write a Python program to solve quadratic equation?\n",
    "\n",
    "import cmath\n",
    "\n",
    "a = float(input(\"Enter a:\"))  # ax^2+bx+c\n",
    "b = float(input(\"Enter b:\"))\n",
    "c = float(input(\"Enter c:\"))\n",
    "\n",
    "D = (b**2) - (4*a*c)  \n",
    "\n",
    "sol1 = (-b-cmath.sqrt(D))/(2*a)  \n",
    "sol2 = (-b+cmath.sqrt(D))/(2*a)  \n",
    "\n",
    "print(\"The solutions are\",sol1 ,\"and\", sol2)"
   ]
  },
  {
   "cell_type": "code",
   "execution_count": 5,
   "id": "949e265f",
   "metadata": {},
   "outputs": [
    {
     "name": "stdout",
     "output_type": "stream",
     "text": [
      "Enter first variable: 78\n",
      "Enter second variable:45\n",
      "First Variable = 45\n",
      "Second Variable = 78\n"
     ]
    }
   ],
   "source": [
    "# 5. Write a Python program to swap two variables without temp variable?\n",
    "\n",
    "num1 = int(input(\"Enter first variable: \"))\n",
    "num2 = int(input(\"Enter second variable:\"))\n",
    "\n",
    "num1,num2 = num2,num1\n",
    "\n",
    "print(\"First Variable =\", num1)\n",
    "print(\"Second Variable =\", num2)"
   ]
  },
  {
   "cell_type": "code",
   "execution_count": null,
   "id": "6e879084",
   "metadata": {},
   "outputs": [],
   "source": []
  }
 ],
 "metadata": {
  "kernelspec": {
   "display_name": "Python 3 (ipykernel)",
   "language": "python",
   "name": "python3"
  },
  "language_info": {
   "codemirror_mode": {
    "name": "ipython",
    "version": 3
   },
   "file_extension": ".py",
   "mimetype": "text/x-python",
   "name": "python",
   "nbconvert_exporter": "python",
   "pygments_lexer": "ipython3",
   "version": "3.9.12"
  }
 },
 "nbformat": 4,
 "nbformat_minor": 5
}
